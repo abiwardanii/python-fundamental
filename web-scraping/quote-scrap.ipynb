{
 "cells": [
  {
   "cell_type": "code",
   "execution_count": 1,
   "metadata": {},
   "outputs": [],
   "source": [
    "import requests\n",
    "import bs4"
   ]
  },
  {
   "cell_type": "code",
   "execution_count": 2,
   "metadata": {},
   "outputs": [],
   "source": [
    "res = requests.get('http://quotes.toscrape.com/')"
   ]
  },
  {
   "cell_type": "code",
   "execution_count": null,
   "metadata": {},
   "outputs": [],
   "source": [
    "res.text"
   ]
  },
  {
   "cell_type": "code",
   "execution_count": 8,
   "metadata": {},
   "outputs": [],
   "source": [
    "#get all author names on 1 pages\n",
    "soup = bs4.BeautifulSoup(res.text, 'lxml')\n",
    "# soup.select('.author')[0].getText()"
   ]
  },
  {
   "cell_type": "code",
   "execution_count": 9,
   "metadata": {},
   "outputs": [],
   "source": [
    "authors = set()\n",
    "\n",
    "for name in soup.select('.author'):\n",
    "    authors.add(name.text)"
   ]
  },
  {
   "cell_type": "code",
   "execution_count": 10,
   "metadata": {},
   "outputs": [
    {
     "name": "stdout",
     "output_type": "stream",
     "text": [
      "{'Steve Martin', 'Thomas A. Edison', 'Jane Austen', 'Marilyn Monroe', 'Albert Einstein', 'Eleanor Roosevelt', 'J.K. Rowling', 'André Gide'}\n"
     ]
    }
   ],
   "source": [
    "print(authors)"
   ]
  },
  {
   "cell_type": "code",
   "execution_count": 13,
   "metadata": {},
   "outputs": [],
   "source": [
    "# list of all quotes on the first page\n",
    "quotes = []\n",
    "for quote in soup.select('.text'):\n",
    "    quotes.append(quote.text)"
   ]
  },
  {
   "cell_type": "code",
   "execution_count": 15,
   "metadata": {},
   "outputs": [
    {
     "name": "stdout",
     "output_type": "stream",
     "text": [
      "['“The world as we have created it is a process of our thinking. It cannot be changed without changing our thinking.”', '“It is our choices, Harry, that show what we truly are, far more than our abilities.”', '“There are only two ways to live your life. One is as though nothing is a miracle. The other is as though everything is a miracle.”', '“The person, be it gentleman or lady, who has not pleasure in a good novel, must be intolerably stupid.”', \"“Imperfection is beauty, madness is genius and it's better to be absolutely ridiculous than absolutely boring.”\", '“Try not to become a man of success. Rather become a man of value.”', '“It is better to be hated for what you are than to be loved for what you are not.”', \"“I have not failed. I've just found 10,000 ways that won't work.”\", \"“A woman is like a tea bag; you never know how strong it is until it's in hot water.”\", '“A day without sunshine is like, you know, night.”']\n"
     ]
    }
   ],
   "source": [
    "print(quotes)"
   ]
  },
  {
   "cell_type": "code",
   "execution_count": 18,
   "metadata": {},
   "outputs": [
    {
     "name": "stdout",
     "output_type": "stream",
     "text": [
      "\n",
      "love\n",
      "\n",
      "\n",
      "inspirational\n",
      "\n",
      "\n",
      "life\n",
      "\n",
      "\n",
      "humor\n",
      "\n",
      "\n",
      "books\n",
      "\n",
      "\n",
      "reading\n",
      "\n",
      "\n",
      "friendship\n",
      "\n",
      "\n",
      "friends\n",
      "\n",
      "\n",
      "truth\n",
      "\n",
      "\n",
      "simile\n",
      "\n"
     ]
    }
   ],
   "source": [
    "#print top ten tag\n",
    "for tag in soup.select('.tag-item'):\n",
    "    print(tag.text)"
   ]
  },
  {
   "cell_type": "code",
   "execution_count": 19,
   "metadata": {},
   "outputs": [],
   "source": [
    "# get all author name on 10 pages\n",
    "authors = set()\n",
    "\n",
    "for page in range(1,10):\n",
    "    res = requests.get('http://quotes.toscrape.com/page/' + str(page) + '/')\n",
    "    soup = bs4.BeautifulSoup(res.text, 'lxml')\n",
    "    for name in soup.select('.author'):\n",
    "        authors.add(name.text)\n"
   ]
  },
  {
   "cell_type": "code",
   "execution_count": 20,
   "metadata": {},
   "outputs": [
    {
     "name": "stdout",
     "output_type": "stream",
     "text": [
      "{'Haruki Murakami', 'Bob Marley', 'Allen Saunders', 'Ralph Waldo Emerson', 'Mother Teresa', 'Ernest Hemingway', 'Dr. Seuss', 'W.C. Fields', 'Douglas Adams', 'Thomas A. Edison', 'C.S. Lewis', 'Mark Twain', 'Garrison Keillor', 'Elie Wiesel', 'Albert Einstein', 'George R.R. Martin', 'Terry Pratchett', 'Ayn Rand', 'Steve Martin', 'George Bernard Shaw', 'William Nicholson', 'James Baldwin', 'J.R.R. Tolkien', 'Stephenie Meyer', 'Charles M. Schulz', 'Friedrich Nietzsche', 'Martin Luther King Jr.', 'George Eliot', 'Alfred Tennyson', 'Helen Keller', 'Suzanne Collins', 'Marilyn Monroe', 'Eleanor Roosevelt', 'André Gide', 'John Lennon', 'George Carlin', 'Jane Austen', 'Alexandre Dumas fils', 'Pablo Neruda', 'J.D. Salinger', 'Jim Henson', 'Jorge Luis Borges', 'J.K. Rowling', 'Charles Bukowski'}\n"
     ]
    }
   ],
   "source": [
    "print(authors)"
   ]
  }
 ],
 "metadata": {
  "interpreter": {
   "hash": "aee8b7b246df8f9039afb4144a1f6fd8d2ca17a180786b69acc140d282b71a49"
  },
  "kernelspec": {
   "display_name": "Python 3.9.5 64-bit",
   "language": "python",
   "name": "python3"
  },
  "language_info": {
   "codemirror_mode": {
    "name": "ipython",
    "version": 3
   },
   "file_extension": ".py",
   "mimetype": "text/x-python",
   "name": "python",
   "nbconvert_exporter": "python",
   "pygments_lexer": "ipython3",
   "version": "3.9.5"
  },
  "orig_nbformat": 4
 },
 "nbformat": 4,
 "nbformat_minor": 2
}
